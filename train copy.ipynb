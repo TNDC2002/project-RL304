{
 "cells": [
  {
   "cell_type": "markdown",
   "metadata": {},
   "source": [
    "## Configurations for Colab"
   ]
  },
  {
   "cell_type": "code",
   "execution_count": 15,
   "metadata": {},
   "outputs": [],
   "source": [
    "import sys\n",
    "IN_COLAB = \"google.colab\" in sys.modules\n",
    "\n",
    "if IN_COLAB:\n",
    "    !apt install python-opengl\n",
    "    !apt install ffmpeg\n",
    "    !apt install xvfb\n",
    "    !pip install PyVirtualDisplay==3.0\n",
    "    !pip install gymnasium==0.28.1\n",
    "    !pip install pytorch-tcn\n",
    "    from pyvirtualdisplay import Display\n",
    "    \n",
    "    # Start virtual display\n",
    "    dis = Display(visible=0, size=(400, 400))\n",
    "    dis.start()"
   ]
  },
  {
   "cell_type": "markdown",
   "metadata": {},
   "source": [
    "# 08. Rainbow\n",
    "\n",
    "[M. Hessel et al., \"Rainbow: Combining Improvements in Deep Reinforcement Learning.\" arXiv preprint arXiv:1710.02298, 2017.](https://arxiv.org/pdf/1710.02298.pdf)\n",
    "\n",
    "We will integrate all the following seven components into a single integrated agent, which is called Rainbow!\n",
    "\n",
    "1. DQN\n",
    "2. Double DQN\n",
    "3. Prioritized Experience Replay\n",
    "4. Dueling Network\n",
    "5. Noisy Network\n",
    "6. Categorical DQN\n",
    "7. N-step Learning\n",
    "\n",
    "This method shows an impressive performance on the Atari 2600 benchmark, both in terms of data efficiency and final performance. \n",
    "\n",
    "![rainbow](https://user-images.githubusercontent.com/14961526/60591412-61748100-9dd9-11e9-84fb-076c7a61fbab.png)\n",
    "\n",
    "However, the integration is not so simple because some of components are not independent each other, so we will look into a number of points that people especailly feel confused.\n",
    "\n",
    "1. Noisy Network <-> Dueling Network\n",
    "2. Dueling Network <-> Categorical DQN\n",
    "3. Categorical DQN <-> Double DQN"
   ]
  },
  {
   "cell_type": "code",
   "execution_count": 16,
   "metadata": {},
   "outputs": [],
   "source": [
    "import math\n",
    "import os\n",
    "import random\n",
    "from collections import deque\n",
    "from typing import Deque, Dict, List, Tuple\n",
    "\n",
    "import gymnasium as gym\n",
    "import matplotlib.pyplot as plt\n",
    "import numpy as np\n",
    "import torch\n",
    "import torch.nn as nn\n",
    "import torch.nn.functional as F\n",
    "import torch.optim as optim\n",
    "from IPython.display import clear_output\n",
    "from torch.nn.utils import clip_grad_norm_\n",
    "from tqdm import tqdm\n",
    "# download segment tree module\n",
    "# if IN_COLAB:\n",
    "#     !wget https://raw.githubusercontent.com/curt-park/rainbow-is-all-you-need/master/segment_tree.py\n",
    "import pickle\n",
    "from Agent.segment_tree import MinSegmentTree, SumSegmentTree\n",
    "from torch.optim.lr_scheduler import ExponentialLR\n",
    "\n",
    "\n",
    "from datetime import datetime"
   ]
  },
  {
   "cell_type": "code",
   "execution_count": 17,
   "metadata": {},
   "outputs": [],
   "source": [
    "import sys\n",
    "sys.path.append('/home/ece/anaconda3/bin/project-RL304/project-RL304/')\n",
    "# sys.path.append('/content/project-RL304/Agent')\n",
    "\n",
    "from Agent.env import CustomEnv"
   ]
  },
  {
   "cell_type": "markdown",
   "metadata": {},
   "source": [
    "## Replay buffer\n",
    "\n",
    "Same as the basic N-step buffer. \n",
    "\n",
    "(Please see *01.dqn.ipynb*, *07.n_step_learning.ipynb* for detailed description about the basic (n-step) replay buffer.)"
   ]
  },
  {
   "cell_type": "code",
   "execution_count": 18,
   "metadata": {},
   "outputs": [],
   "source": [
    "class ReplayBuffer:\n",
    "    \"\"\"A simple numpy replay buffer.\"\"\"\n",
    "\n",
    "    def __init__(\n",
    "        self, \n",
    "        obs_dim: Tuple[int], \n",
    "        size: int, \n",
    "        batch_size: int = 32, \n",
    "        n_step: int = 1, \n",
    "        gamma: float = 0.99\n",
    "    ):\n",
    "        self.obs_buf = np.zeros([size, *obs_dim], dtype=np.float32)\n",
    "        self.next_obs_buf = np.zeros([size, *obs_dim], dtype=np.float32)\n",
    "        self.acts_buf = np.zeros([size], dtype=np.float32)\n",
    "        self.rews_buf = np.zeros([size], dtype=np.float32)\n",
    "        self.done_buf = np.zeros(size, dtype=np.float32)\n",
    "        self.max_size, self.batch_size = size, batch_size\n",
    "        self.ptr, self.size, = 0, 0\n",
    "        \n",
    "        # for N-step Learning\n",
    "        self.n_step_buffer = deque(maxlen=n_step)\n",
    "        self.n_step = n_step\n",
    "        self.gamma = gamma\n",
    "\n",
    "    def store(\n",
    "        self, \n",
    "        obs: np.ndarray, \n",
    "        act: np.ndarray, \n",
    "        rew: float, \n",
    "        next_obs: np.ndarray, \n",
    "        done: bool,\n",
    "    ) -> Tuple[np.ndarray, np.ndarray, float, np.ndarray, bool]:\n",
    "        transition = (obs, act, rew, next_obs, done)\n",
    "        self.n_step_buffer.append(transition)\n",
    "\n",
    "        # single step transition is not ready\n",
    "        if len(self.n_step_buffer) < self.n_step:\n",
    "            return ()\n",
    "        \n",
    "        # make a n-step transition\n",
    "        rew, next_obs, done = self._get_n_step_info(\n",
    "            self.n_step_buffer, self.gamma\n",
    "        )\n",
    "        obs, act = self.n_step_buffer[0][:2]\n",
    "        \n",
    "        self.obs_buf[self.ptr] = obs\n",
    "        self.next_obs_buf[self.ptr] = next_obs\n",
    "        self.acts_buf[self.ptr] = act\n",
    "        self.rews_buf[self.ptr] = rew\n",
    "        self.done_buf[self.ptr] = done\n",
    "        self.ptr = (self.ptr + 1) % self.max_size\n",
    "        self.size = min(self.size + 1, self.max_size)\n",
    "        \n",
    "        return self.n_step_buffer[0]\n",
    "\n",
    "    def sample_batch(self) -> Dict[str, np.ndarray]:\n",
    "        idxs = np.random.choice(self.size, size=self.batch_size, replace=False)\n",
    "\n",
    "        return dict(\n",
    "            obs=self.obs_buf[idxs],\n",
    "            next_obs=self.next_obs_buf[idxs],\n",
    "            acts=self.acts_buf[idxs],\n",
    "            rews=self.rews_buf[idxs],\n",
    "            done=self.done_buf[idxs],\n",
    "            # for N-step Learning\n",
    "            indices=idxs,\n",
    "        )\n",
    "    \n",
    "    def sample_batch_from_idxs(\n",
    "        self, idxs: np.ndarray\n",
    "    ) -> Dict[str, np.ndarray]:\n",
    "        # for N-step Learning\n",
    "        return dict(\n",
    "            obs=self.obs_buf[idxs],\n",
    "            next_obs=self.next_obs_buf[idxs],\n",
    "            acts=self.acts_buf[idxs],\n",
    "            rews=self.rews_buf[idxs],\n",
    "            done=self.done_buf[idxs],\n",
    "        )\n",
    "    \n",
    "    def _get_n_step_info(\n",
    "        self, n_step_buffer: Deque, gamma: float\n",
    "    ) -> Tuple[np.int64, np.ndarray, bool]:\n",
    "        \"\"\"Return n step rew, next_obs, and done.\"\"\"\n",
    "        # info of the last transition\n",
    "        rew, next_obs, done = n_step_buffer[-1][-3:]\n",
    "\n",
    "        for transition in reversed(list(n_step_buffer)[:-1]):\n",
    "            r, n_o, d = transition[-3:]\n",
    "\n",
    "            rew = r + gamma * rew * (1 - d)\n",
    "            next_obs, done = (n_o, d) if d else (next_obs, done)\n",
    "\n",
    "        return rew, next_obs, done\n",
    "\n",
    "    def __len__(self) -> int:\n",
    "        return self.size"
   ]
  },
  {
   "cell_type": "markdown",
   "metadata": {},
   "source": [
    "## Prioritized replay Buffer\n",
    "\n",
    "`store` method returns boolean in order to inform if a N-step transition has been generated.\n",
    "\n",
    "(Please see *02.per.ipynb* for detailed description about PER.)"
   ]
  },
  {
   "cell_type": "code",
   "execution_count": 19,
   "metadata": {},
   "outputs": [],
   "source": [
    "class PrioritizedReplayBuffer(ReplayBuffer):\n",
    "    \"\"\"Prioritized Replay buffer.\n",
    "    \n",
    "    Attributes:\n",
    "        max_priority (float): max priority\n",
    "        tree_ptr (int): next index of tree\n",
    "        alpha (float): alpha parameter for prioritized replay buffer\n",
    "        sum_tree (SumSegmentTree): sum tree for prior\n",
    "        min_tree (MinSegmentTree): min tree for min prior to get max weight\n",
    "        \n",
    "    \"\"\"\n",
    "    \n",
    "    def __init__(\n",
    "        self, \n",
    "        obs_dim: int, \n",
    "        size: int, \n",
    "        batch_size: int = 32, \n",
    "        alpha: float = 0.6,\n",
    "        n_step: int = 1, \n",
    "        gamma: float = 0.99,\n",
    "    ):\n",
    "        \"\"\"Initialization.\"\"\"\n",
    "        assert alpha >= 0\n",
    "        \n",
    "        super(PrioritizedReplayBuffer, self).__init__(\n",
    "            obs_dim, size, batch_size, n_step, gamma\n",
    "        )\n",
    "        self.max_priority, self.tree_ptr = 1.0, 0\n",
    "        self.alpha = alpha\n",
    "        \n",
    "        # capacity must be positive and a power of 2.\n",
    "        tree_capacity = 1\n",
    "        while tree_capacity < self.max_size:\n",
    "            tree_capacity *= 2\n",
    "\n",
    "        self.sum_tree = SumSegmentTree(tree_capacity)\n",
    "        self.min_tree = MinSegmentTree(tree_capacity)\n",
    "        \n",
    "    def store(\n",
    "        self, \n",
    "        obs: np.ndarray, \n",
    "        act: int, \n",
    "        rew: float, \n",
    "        next_obs: np.ndarray, \n",
    "        done: bool,\n",
    "    ) -> Tuple[np.ndarray, np.ndarray, float, np.ndarray, bool]:\n",
    "        \"\"\"Store experience and priority.\"\"\"\n",
    "        transition = super().store(obs, act, rew, next_obs, done)\n",
    "        \n",
    "        if transition:\n",
    "            self.sum_tree[self.tree_ptr] = self.max_priority ** self.alpha\n",
    "            self.min_tree[self.tree_ptr] = self.max_priority ** self.alpha\n",
    "            self.tree_ptr = (self.tree_ptr + 1) % self.max_size\n",
    "        \n",
    "        return transition\n",
    "\n",
    "    def sample_batch(self, beta: float = 0.4) -> Dict[str, np.ndarray]:\n",
    "        \"\"\"Sample a batch of experiences.\"\"\"\n",
    "        assert len(self) >= self.batch_size\n",
    "        assert beta > 0\n",
    "        \n",
    "        indices = self._sample_proportional()\n",
    "        \n",
    "        obs = self.obs_buf[indices]\n",
    "        next_obs = self.next_obs_buf[indices]\n",
    "        acts = self.acts_buf[indices]\n",
    "        rews = self.rews_buf[indices]\n",
    "        done = self.done_buf[indices]\n",
    "        weights = np.array([self._calculate_weight(i, beta) for i in indices])\n",
    "        \n",
    "        return dict(\n",
    "            obs=obs,\n",
    "            next_obs=next_obs,\n",
    "            acts=acts,\n",
    "            rews=rews,\n",
    "            done=done,\n",
    "            weights=weights,\n",
    "            indices=indices,\n",
    "        )\n",
    "        \n",
    "    def update_priorities(self, indices: List[int], priorities: np.ndarray):\n",
    "        \"\"\"Update priorities of sampled transitions.\"\"\"\n",
    "        assert len(indices) == len(priorities)\n",
    "\n",
    "        for idx, priority in zip(indices, priorities):\n",
    "            assert priority > 0\n",
    "            assert 0 <= idx < len(self)\n",
    "\n",
    "            self.sum_tree[idx] = priority ** self.alpha\n",
    "            self.min_tree[idx] = priority ** self.alpha\n",
    "\n",
    "            self.max_priority = max(self.max_priority, priority)\n",
    "            \n",
    "    def _sample_proportional(self) -> List[int]:\n",
    "        \"\"\"Sample indices based on proportions.\"\"\"\n",
    "        indices = []\n",
    "        p_total = self.sum_tree.sum(0, len(self) - 1)\n",
    "        segment = p_total / self.batch_size\n",
    "        \n",
    "        for i in range(self.batch_size):\n",
    "            a = segment * i\n",
    "            b = segment * (i + 1)\n",
    "            upperbound = random.uniform(a, b)\n",
    "            idx = self.sum_tree.retrieve(upperbound)\n",
    "            indices.append(idx)\n",
    "            \n",
    "        return indices\n",
    "    \n",
    "    def _calculate_weight(self, idx: int, beta: float):\n",
    "        \"\"\"Calculate the weight of the experience at idx.\"\"\"\n",
    "        # get max weight\n",
    "        p_min = self.min_tree.min() / self.sum_tree.sum()\n",
    "        max_weight = (p_min * len(self)) ** (-beta)\n",
    "        \n",
    "        # calculate weights\n",
    "        p_sample = self.sum_tree[idx] / self.sum_tree.sum()\n",
    "        weight = (p_sample * len(self)) ** (-beta)\n",
    "        weight = weight / max_weight\n",
    "        \n",
    "        return weight"
   ]
  },
  {
   "cell_type": "markdown",
   "metadata": {},
   "source": [
    "## Noisy Layer\n",
    "\n",
    "Please see *05.noisy_net.ipynb* for detailed description.\n",
    "\n",
    "**References:**\n",
    "\n",
    "- https://github.com/higgsfield/RL-Adventure/blob/master/5.noisy%20dqn.ipynb\n",
    "- https://github.com/Kaixhin/Rainbow/blob/master/model.py"
   ]
  },
  {
   "cell_type": "code",
   "execution_count": 20,
   "metadata": {},
   "outputs": [],
   "source": [
    "class NoisyLinear(nn.Module):\n",
    "    \"\"\"Noisy linear module for NoisyNet.\n",
    "    \n",
    "    \n",
    "        \n",
    "    Attributes:\n",
    "        in_features (int): input size of linear module\n",
    "        out_features (int): output size of linear module\n",
    "        std_init (float): initial std value\n",
    "        weight_mu (nn.Parameter): mean value weight parameter\n",
    "        weight_sigma (nn.Parameter): std value weight parameter\n",
    "        bias_mu (nn.Parameter): mean value bias parameter\n",
    "        bias_sigma (nn.Parameter): std value bias parameter\n",
    "        \n",
    "    \"\"\"\n",
    "\n",
    "    def __init__(\n",
    "        self, \n",
    "        in_features: int, \n",
    "        out_features: int, \n",
    "        std_init: float = 0.5,\n",
    "    ):\n",
    "        \"\"\"Initialization.\"\"\"\n",
    "        super(NoisyLinear, self).__init__()\n",
    "        \n",
    "        self.in_features = in_features\n",
    "        self.out_features = out_features\n",
    "        self.std_init = std_init\n",
    "\n",
    "        self.weight_mu = nn.Parameter(torch.Tensor(out_features, in_features))\n",
    "        self.weight_sigma = nn.Parameter(\n",
    "            torch.Tensor(out_features, in_features)\n",
    "        )\n",
    "        self.register_buffer(\n",
    "            \"weight_epsilon\", torch.Tensor(out_features, in_features)\n",
    "        )\n",
    "\n",
    "        self.bias_mu = nn.Parameter(torch.Tensor(out_features))\n",
    "        self.bias_sigma = nn.Parameter(torch.Tensor(out_features))\n",
    "        self.register_buffer(\"bias_epsilon\", torch.Tensor(out_features))\n",
    "\n",
    "        self.reset_parameters()\n",
    "        self.reset_noise()\n",
    "\n",
    "    def reset_parameters(self):\n",
    "        \"\"\"Reset trainable network parameters (factorized gaussian noise).\"\"\"\n",
    "        mu_range = 1 / math.sqrt(self.in_features)\n",
    "        self.weight_mu.data.uniform_(-mu_range, mu_range)\n",
    "        self.weight_sigma.data.fill_(\n",
    "            self.std_init / math.sqrt(self.in_features)\n",
    "        )\n",
    "        self.bias_mu.data.uniform_(-mu_range, mu_range)\n",
    "        self.bias_sigma.data.fill_(\n",
    "            self.std_init / math.sqrt(self.out_features)\n",
    "        )\n",
    "\n",
    "    def reset_noise(self):\n",
    "        \"\"\"Make new noise.\"\"\"\n",
    "        epsilon_in = self.scale_noise(self.in_features)\n",
    "        epsilon_out = self.scale_noise(self.out_features)\n",
    "\n",
    "        # outer product\n",
    "        self.weight_epsilon.copy_(epsilon_out.ger(epsilon_in))\n",
    "        self.bias_epsilon.copy_(epsilon_out)\n",
    "\n",
    "    def forward(self, x: torch.Tensor) -> torch.Tensor:\n",
    "        \"\"\"Forward method implementation.\n",
    "        \n",
    "        We don't use separate statements on train / eval mode.\n",
    "        It doesn't show remarkable difference of performance.\n",
    "        \"\"\"\n",
    "        return F.linear(\n",
    "            x,\n",
    "            self.weight_mu + self.weight_sigma * self.weight_epsilon,\n",
    "            self.bias_mu + self.bias_sigma * self.bias_epsilon,\n",
    "        )\n",
    "    \n",
    "    @staticmethod\n",
    "    def scale_noise(size: int) -> torch.Tensor:\n",
    "        \"\"\"Set scale to make noise (factorized gaussian noise).\"\"\"\n",
    "        x = torch.randn(size)\n",
    "\n",
    "        return x.sign().mul(x.abs().sqrt())"
   ]
  },
  {
   "cell_type": "markdown",
   "metadata": {},
   "source": [
    "## NoisyNet + DuelingNet + Categorical DQN\n",
    "\n",
    "#### NoisyNet + DuelingNet\n",
    "\n",
    "NoisyLinear is employed for the last two layers of advantage and value layers. The noise should be reset at evey update step.\n",
    "\n",
    "#### DuelingNet + Categorical DQN\n",
    "\n",
    "The dueling network architecture is adapted for use with return distributions. The network has a shared representation, which is then fed into a value stream with atom_size outputs, and into an advantage stream with atom_size × out_dim outputs. For each atom, the value and advantage streams are aggregated, as in dueling DQN, and then passed through a softmax layer to obtain the normalized parametric distributions used to estimate the returns’ distributions.\n",
    "\n",
    "```\n",
    "        advantage = self.advantage_layer(adv_hid).view(-1, self.out_dim, self.atom_size)\n",
    "        value = self.value_layer(val_hid).view(-1, 1, self.atom_size)\n",
    "        q_atoms = value + advantage - advantage.mean(dim=1, keepdim=True)\n",
    "        \n",
    "        dist = F.softmax(q_atoms, dim=-1)\n",
    "```\n",
    "\n",
    "(Please see *04.dueling.ipynb*, *05.noisy_net.ipynb*, *06.categorical_dqn.ipynb* for detailed description of each component's network architecture.)"
   ]
  },
  {
   "cell_type": "code",
   "execution_count": 21,
   "metadata": {},
   "outputs": [],
   "source": [
    "import torch\n",
    "import torch.nn as nn\n",
    "from pytorch_tcn import TCN\n",
    "\n",
    "class Network(nn.Module):\n",
    "    def __init__(\n",
    "        self, \n",
    "        in_dim: int, \n",
    "        out_dim: int, \n",
    "        atom_size: int, \n",
    "        support: torch.Tensor\n",
    "    ):\n",
    "        \"\"\"Initialization.\"\"\"\n",
    "        super(Network, self).__init__()\n",
    "        \n",
    "        self.support = support\n",
    "        self.out_dim = out_dim\n",
    "        self.atom_size = atom_size\n",
    "\n",
    "        # set TCN layers\n",
    "        self.tcn = TCN(num_inputs=33, num_channels=[64, 128, 256, 512, 512], kernel_size=24, dropout=0.2, activation=\"relu\", use_skip_connections=True)\n",
    "\n",
    "        # bottle neck\n",
    "        self.Bottleneck = nn.Sequential(\n",
    "                       \n",
    "            #  Bottle neck\n",
    "            nn.Conv1d(512, 128, kernel_size=5, padding=1),  # Maintain spatial dimensions\n",
    "            nn.BatchNorm1d(128),\n",
    "            nn.ReLU(),\n",
    "            nn.Dropout(0.1),\n",
    "        )\n",
    "\n",
    "        # Flatten layer\n",
    "        self.flatten = nn.Flatten(1, 2)\n",
    "        \n",
    "        # Linear layers\n",
    "        self.Linear_layers = nn.Sequential(\n",
    "\n",
    "            \n",
    "            nn.Linear(5120, 4096),\n",
    "            nn.ReLU(),\n",
    "            nn.Dropout(0.2),\n",
    "            nn.Linear(4096, 1024),\n",
    "            nn.ReLU(),\n",
    "            nn.Linear(1024, 512),\n",
    "            nn.ReLU(),\n",
    "            nn.Dropout(0.2),\n",
    "            nn.Linear(512, 128),\n",
    "            nn.ReLU(),\n",
    "            nn.Linear(128, 64),\n",
    "            nn.ReLU(),\n",
    "            nn.Dropout(0.2),\n",
    "        )\n",
    "        \n",
    "        # set advantage layer\n",
    "        self.advantage_hidden_layer = NoisyLinear(64, 64)\n",
    "        self.advantage_layer = NoisyLinear(64, out_dim * atom_size)\n",
    "\n",
    "        # set value layer\n",
    "        self.value_hidden_layer = NoisyLinear(64, 64)\n",
    "        self.value_layer = NoisyLinear(64, atom_size)\n",
    "\n",
    "    def forward(self, x: torch.Tensor) -> torch.Tensor:\n",
    "        \"\"\"Forward method implementation.\"\"\"\n",
    "        dist = self.dist(x)\n",
    "        q = torch.sum(dist * self.support, dim=2)\n",
    "        \n",
    "        return q\n",
    "    \n",
    "    def dist(self, x: torch.Tensor) -> torch.Tensor:\n",
    "        \"\"\"Get distribution for atoms.\"\"\"\n",
    "        # Apply TCN layers\n",
    "        x = self.tcn(x.permute(0, 2, 1))  # input shape: (batch_size, sequence_length, input_size)\n",
    "        x = self.Bottleneck(x)\n",
    "\n",
    "        # Flatten\n",
    "        x = self.flatten(x)\n",
    "\n",
    "        # Linear layers\n",
    "        linear = self.Linear_layers(x)\n",
    "        \n",
    "        # Advantage and value layers\n",
    "        adv_hid = F.relu(self.advantage_hidden_layer(linear))\n",
    "        val_hid = F.relu(self.value_hidden_layer(linear))\n",
    "        advantage = self.advantage_layer(adv_hid).view(-1, self.out_dim, self.atom_size)\n",
    "        value = self.value_layer(val_hid).view(-1, 1, self.atom_size)\n",
    "        q_atoms = value + advantage - advantage.mean(dim=1, keepdim=True)\n",
    "        \n",
    "        # Softmax to get distribution\n",
    "        dist = F.softmax(q_atoms, dim=-1)\n",
    "        dist = dist.clamp(min=1e-3)  # for avoiding nans\n",
    "        \n",
    "        return dist\n",
    "    \n",
    "    def reset_noise(self):\n",
    "        \"\"\"Reset all noisy layers.\"\"\"\n",
    "        self.advantage_hidden_layer.reset_noise()\n",
    "        self.advantage_layer.reset_noise()\n",
    "        self.value_hidden_layer.reset_noise()\n",
    "        self.value_layer.reset_noise()\n"
   ]
  },
  {
   "cell_type": "code",
   "execution_count": 9,
   "metadata": {},
   "outputs": [],
   "source": [
    "model = Network(1, 3, 51, torch.tensor([i for i in range(-20, 21)]))"
   ]
  },
  {
   "cell_type": "code",
   "execution_count": 10,
   "metadata": {},
   "outputs": [],
   "source": [
    "model.cuda()\n",
    "tcn = model.tcn(torch.rand(1, 33, 42).cuda())\n",
    "Bottleneck = model.Bottleneck(tcn)\n",
    "flatten = model.flatten(Bottleneck)"
   ]
  },
  {
   "cell_type": "code",
   "execution_count": 11,
   "metadata": {},
   "outputs": [
    {
     "data": {
      "text/plain": [
       "torch.Size([1, 512, 42])"
      ]
     },
     "execution_count": 11,
     "metadata": {},
     "output_type": "execute_result"
    }
   ],
   "source": [
    "model.cuda()\n",
    "model.tcn(torch.rand(1, 33, 42).cuda()).shape"
   ]
  },
  {
   "cell_type": "code",
   "execution_count": 12,
   "metadata": {},
   "outputs": [
    {
     "data": {
      "text/plain": [
       "torch.Size([1, 128, 40])"
      ]
     },
     "execution_count": 12,
     "metadata": {},
     "output_type": "execute_result"
    }
   ],
   "source": [
    "model.Bottleneck(tcn).shape"
   ]
  },
  {
   "cell_type": "code",
   "execution_count": 13,
   "metadata": {},
   "outputs": [
    {
     "data": {
      "text/plain": [
       "torch.Size([1, 5120])"
      ]
     },
     "execution_count": 13,
     "metadata": {},
     "output_type": "execute_result"
    }
   ],
   "source": [
    "model.flatten(Bottleneck).shape"
   ]
  },
  {
   "cell_type": "code",
   "execution_count": 14,
   "metadata": {},
   "outputs": [
    {
     "data": {
      "text/plain": [
       "torch.Size([1, 64])"
      ]
     },
     "execution_count": 14,
     "metadata": {},
     "output_type": "execute_result"
    }
   ],
   "source": [
    "\n",
    "model.Linear_layers(flatten).shape"
   ]
  },
  {
   "cell_type": "markdown",
   "metadata": {},
   "source": [
    "## Fine-tune 1:"
   ]
  },
  {
   "cell_type": "code",
   "execution_count": 15,
   "metadata": {},
   "outputs": [],
   "source": [
    "class Fine_tune_1(Network):\n",
    "    def __init__(\n",
    "        self, \n",
    "        in_dim: int, \n",
    "        out_dim: int, \n",
    "        atom_size: int, \n",
    "        support: torch.Tensor\n",
    "    ):\n",
    "        super().__init__(in_dim, out_dim, atom_size, support)\n",
    "        self.Convolution_2 = nn.Sequential(           \n",
    "            nn.Conv1d(in_channels=128, out_channels=512, kernel_size=3, padding=1),  # Maintain spatial dimensions\n",
    "            nn.BatchNorm1d(512),\n",
    "            nn.ReLU(),\n",
    "\n",
    "            nn.Conv1d(512, 1024, kernel_size=3, padding=1),  # Maintain spatial dimensions\n",
    "            nn.BatchNorm1d(1024),\n",
    "            nn.ReLU(),\n",
    "\n",
    "            nn.Conv1d(1024, 1536, kernel_size=3, padding=1),#, dilation=2),  # Maintain spatial dimensions\n",
    "            nn.BatchNorm1d(1536),\n",
    "            nn.ReLU(),\n",
    "            nn.MaxPool1d(kernel_size=2),\n",
    "            \n",
    "            #  Bottle neck\n",
    "            nn.Conv1d(1536, 128, kernel_size=1, padding=1),  # Maintain spatial dimensions\n",
    "            nn.BatchNorm1d(128),\n",
    "            nn.ReLU(),\n",
    "            nn.Dropout(0.1),\n",
    "        )\n",
    "    def dist(self, x: torch.Tensor) -> torch.Tensor:\n",
    "        \"\"\"Get distribution for atoms.\"\"\"\n",
    "        x = x.permute(0, 2, 1)\n",
    "        Conv_1 = self.Convolution_1(x) # [batch_size, 42, 128]\n",
    "        Conv_2 = self.Convolution_2(Conv_1)\n",
    "\n",
    "        linear = self.flatten(Conv_2)\n",
    "        linear = self.Linear_layers(linear)\n",
    "        # feature = torch.sum(feature, dim=1, keepdim=False) # [batch_size, 128]\n",
    "        adv_hid = F.relu(self.advantage_hidden_layer(linear))\n",
    "        val_hid = F.relu(self.value_hidden_layer(linear))\n",
    "        \n",
    "        advantage = self.advantage_layer(adv_hid).view(\n",
    "            -1, self.out_dim, self.atom_size\n",
    "        )\n",
    "        value = self.value_layer(val_hid).view(-1, 1, self.atom_size)\n",
    "        q_atoms = value + advantage - advantage.mean(dim=1, keepdim=True)\n",
    "        \n",
    "        dist = F.softmax(q_atoms, dim=-1)\n",
    "        dist = dist.clamp(min=1e-3)  # for avoiding nans\n",
    "        \n",
    "        return dist\n"
   ]
  },
  {
   "cell_type": "code",
   "execution_count": 16,
   "metadata": {},
   "outputs": [],
   "source": [
    "model = Fine_tune_1(1, 3, 51, torch.tensor([i for i in range(-20, 21)]))"
   ]
  },
  {
   "cell_type": "code",
   "execution_count": 17,
   "metadata": {},
   "outputs": [
    {
     "ename": "AttributeError",
     "evalue": "'Fine_tune_1' object has no attribute 'Convolution_1'",
     "output_type": "error",
     "traceback": [
      "\u001b[0;31m---------------------------------------------------------------------------\u001b[0m",
      "\u001b[0;31mAttributeError\u001b[0m                            Traceback (most recent call last)",
      "\u001b[0;32m<ipython-input-17-b1de9de94d1c>\u001b[0m in \u001b[0;36m<module>\u001b[0;34m\u001b[0m\n\u001b[1;32m      1\u001b[0m \u001b[0mmodel\u001b[0m\u001b[0;34m.\u001b[0m\u001b[0mcuda\u001b[0m\u001b[0;34m(\u001b[0m\u001b[0;34m)\u001b[0m\u001b[0;34m\u001b[0m\u001b[0;34m\u001b[0m\u001b[0m\n\u001b[0;32m----> 2\u001b[0;31m \u001b[0mconv_output\u001b[0m \u001b[0;34m=\u001b[0m \u001b[0mmodel\u001b[0m\u001b[0;34m.\u001b[0m\u001b[0mConvolution_1\u001b[0m\u001b[0;34m(\u001b[0m\u001b[0mtorch\u001b[0m\u001b[0;34m.\u001b[0m\u001b[0mrand\u001b[0m\u001b[0;34m(\u001b[0m\u001b[0;36m1\u001b[0m\u001b[0;34m,\u001b[0m \u001b[0;36m33\u001b[0m\u001b[0;34m,\u001b[0m \u001b[0;36m42\u001b[0m\u001b[0;34m)\u001b[0m\u001b[0;34m.\u001b[0m\u001b[0mcuda\u001b[0m\u001b[0;34m(\u001b[0m\u001b[0;34m)\u001b[0m\u001b[0;34m)\u001b[0m\u001b[0;34m\u001b[0m\u001b[0;34m\u001b[0m\u001b[0m\n\u001b[0m\u001b[1;32m      3\u001b[0m \u001b[0mconv2_output\u001b[0m \u001b[0;34m=\u001b[0m \u001b[0mmodel\u001b[0m\u001b[0;34m.\u001b[0m\u001b[0mConvolution_2\u001b[0m\u001b[0;34m(\u001b[0m\u001b[0mconv_output\u001b[0m\u001b[0;34m)\u001b[0m\u001b[0;34m\u001b[0m\u001b[0;34m\u001b[0m\u001b[0m\n\u001b[1;32m      4\u001b[0m \u001b[0mflattened_output\u001b[0m \u001b[0;34m=\u001b[0m \u001b[0mmodel\u001b[0m\u001b[0;34m.\u001b[0m\u001b[0mflatten\u001b[0m\u001b[0;34m(\u001b[0m\u001b[0mconv2_output\u001b[0m\u001b[0;34m)\u001b[0m\u001b[0;34m\u001b[0m\u001b[0;34m\u001b[0m\u001b[0m\n\u001b[1;32m      5\u001b[0m \u001b[0mmodel\u001b[0m\u001b[0;34m.\u001b[0m\u001b[0mLinear_layers\u001b[0m\u001b[0;34m(\u001b[0m\u001b[0mflattened_output\u001b[0m\u001b[0;34m)\u001b[0m\u001b[0;34m.\u001b[0m\u001b[0mshape\u001b[0m\u001b[0;34m\u001b[0m\u001b[0;34m\u001b[0m\u001b[0m\n",
      "\u001b[0;32m~/anaconda3/lib/python3.7/site-packages/torch/nn/modules/module.py\u001b[0m in \u001b[0;36m__getattr__\u001b[0;34m(self, name)\u001b[0m\n\u001b[1;32m   1268\u001b[0m                 \u001b[0;32mreturn\u001b[0m \u001b[0mmodules\u001b[0m\u001b[0;34m[\u001b[0m\u001b[0mname\u001b[0m\u001b[0;34m]\u001b[0m\u001b[0;34m\u001b[0m\u001b[0;34m\u001b[0m\u001b[0m\n\u001b[1;32m   1269\u001b[0m         raise AttributeError(\"'{}' object has no attribute '{}'\".format(\n\u001b[0;32m-> 1270\u001b[0;31m             type(self).__name__, name))\n\u001b[0m\u001b[1;32m   1271\u001b[0m \u001b[0;34m\u001b[0m\u001b[0m\n\u001b[1;32m   1272\u001b[0m     \u001b[0;32mdef\u001b[0m \u001b[0m__setattr__\u001b[0m\u001b[0;34m(\u001b[0m\u001b[0mself\u001b[0m\u001b[0;34m,\u001b[0m \u001b[0mname\u001b[0m\u001b[0;34m:\u001b[0m \u001b[0mstr\u001b[0m\u001b[0;34m,\u001b[0m \u001b[0mvalue\u001b[0m\u001b[0;34m:\u001b[0m \u001b[0mUnion\u001b[0m\u001b[0;34m[\u001b[0m\u001b[0mTensor\u001b[0m\u001b[0;34m,\u001b[0m \u001b[0;34m'Module'\u001b[0m\u001b[0;34m]\u001b[0m\u001b[0;34m)\u001b[0m \u001b[0;34m->\u001b[0m \u001b[0;32mNone\u001b[0m\u001b[0;34m:\u001b[0m\u001b[0;34m\u001b[0m\u001b[0;34m\u001b[0m\u001b[0m\n",
      "\u001b[0;31mAttributeError\u001b[0m: 'Fine_tune_1' object has no attribute 'Convolution_1'"
     ]
    }
   ],
   "source": [
    "model.cuda()\n",
    "conv_output = model.Convolution_1(torch.rand(1, 33, 42).cuda())\n",
    "conv2_output = model.Convolution_2(conv_output)\n",
    "flattened_output = model.flatten(conv2_output)\n",
    "model.Linear_layers(flattened_output).shape"
   ]
  },
  {
   "cell_type": "code",
   "execution_count": null,
   "metadata": {},
   "outputs": [
    {
     "data": {
      "text/plain": [
       "torch.Size([1, 128, 3])"
      ]
     },
     "execution_count": 14,
     "metadata": {},
     "output_type": "execute_result"
    }
   ],
   "source": [
    "model.Convolution_1(torch.rand(1, 33, 42).cuda()).shape"
   ]
  },
  {
   "cell_type": "code",
   "execution_count": null,
   "metadata": {},
   "outputs": [
    {
     "data": {
      "text/plain": [
       "torch.Size([1, 128, 3])"
      ]
     },
     "execution_count": 15,
     "metadata": {},
     "output_type": "execute_result"
    }
   ],
   "source": [
    "model.Convolution_2(conv_output).shape"
   ]
  },
  {
   "cell_type": "markdown",
   "metadata": {},
   "source": [
    "# Fine-tune 2:"
   ]
  },
  {
   "cell_type": "code",
   "execution_count": null,
   "metadata": {},
   "outputs": [],
   "source": [
    "class Fine_tune_2(Fine_tune_1):\n",
    "    def __init__(\n",
    "        self, \n",
    "        in_dim: int, \n",
    "        out_dim: int, \n",
    "        atom_size: int, \n",
    "        support: torch.Tensor\n",
    "    ):\n",
    "        super().__init__(in_dim, out_dim, atom_size, support)\n",
    "        self.Convolution_3 = nn.Sequential(           \n",
    "            nn.Conv1d(in_channels=128, out_channels=512, kernel_size=3, padding=1),  # Maintain spatial dimensions\n",
    "            nn.BatchNorm1d(512),\n",
    "            nn.ReLU(),\n",
    "\n",
    "            nn.Conv1d(512, 1024, kernel_size=3, padding=1),  # Maintain spatial dimensions\n",
    "            nn.BatchNorm1d(1024),\n",
    "            nn.ReLU(),\n",
    "\n",
    "            nn.Conv1d(1024, 1536, kernel_size=3, padding=1),#, dilation=2),  # Maintain spatial dimensions\n",
    "            nn.BatchNorm1d(1536),\n",
    "            nn.ReLU(),\n",
    "            nn.MaxPool1d(kernel_size=2),\n",
    "            \n",
    "            #  Bottle neck\n",
    "            nn.Conv1d(1536, 128, kernel_size=1, padding=1),  # Maintain spatial dimensions\n",
    "            nn.BatchNorm1d(128),\n",
    "            nn.ReLU(),\n",
    "        )\n",
    "\n",
    "        # self.Linear_layers = nn.Sequential(\n",
    "            \n",
    "        #     nn.Linear(640, 512),\n",
    "        #     nn.ReLU(),\n",
    "            \n",
    "        #     nn.Linear(512, 384),\n",
    "        #     nn.ReLU(),\n",
    "                        \n",
    "        #     nn.Linear(384, 256),\n",
    "        #     nn.ReLU(),\n",
    "            \n",
    "        #     nn.Linear(256, 128),\n",
    "        #     nn.ReLU(),\n",
    "            \n",
    "        #     nn.Linear(128, 64),\n",
    "        #     nn.ReLU(),\n",
    "            \n",
    "        # )\n",
    "\n",
    "    def dist(self, x: torch.Tensor) -> torch.Tensor:\n",
    "        \"\"\"Get distribution for atoms.\"\"\"\n",
    "        x = x.permute(0, 2, 1)\n",
    "        Conv_1 = self.Convolution_1(x) # [batch_size, 42, 128]\n",
    "        Conv_2 = self.Convolution_2(Conv_1)\n",
    "        conv_3 = self.Convolution_3(Conv_2)\n",
    "\n",
    "        linear = self.flatten(conv_3)\n",
    "        linear = self.Linear_layers(linear)\n",
    "        # feature = torch.sum(feature, dim=1, keepdim=False) # [batch_size, 128]\n",
    "        adv_hid = F.relu(self.advantage_hidden_layer(linear))\n",
    "        val_hid = F.relu(self.value_hidden_layer(linear))\n",
    "        \n",
    "        advantage = self.advantage_layer(adv_hid).view(\n",
    "            -1, self.out_dim, self.atom_size\n",
    "        )\n",
    "        value = self.value_layer(val_hid).view(-1, 1, self.atom_size)\n",
    "        q_atoms = value + advantage - advantage.mean(dim=1, keepdim=True)\n",
    "        \n",
    "        dist = F.softmax(q_atoms, dim=-1)\n",
    "        dist = dist.clamp(min=1e-3)  # for avoiding nans\n",
    "        \n",
    "        return dist"
   ]
  },
  {
   "cell_type": "code",
   "execution_count": null,
   "metadata": {},
   "outputs": [],
   "source": [
    "model = Fine_tune_2(1, 3, 51, torch.tensor([i for i in range(-20, 21)]))"
   ]
  },
  {
   "cell_type": "code",
   "execution_count": null,
   "metadata": {},
   "outputs": [
    {
     "data": {
      "text/plain": [
       "torch.Size([1, 64])"
      ]
     },
     "execution_count": 18,
     "metadata": {},
     "output_type": "execute_result"
    }
   ],
   "source": [
    "model.cuda()\n",
    "conv_output = model.Convolution_1(torch.rand(1, 33, 42).cuda())\n",
    "conv2_output = model.Convolution_2(conv_output)\n",
    "flattened_output = model.flatten(conv2_output)\n",
    "model.Linear_layers(flattened_output).shape"
   ]
  },
  {
   "cell_type": "code",
   "execution_count": null,
   "metadata": {},
   "outputs": [
    {
     "data": {
      "text/plain": [
       "torch.Size([1, 128, 3])"
      ]
     },
     "execution_count": 19,
     "metadata": {},
     "output_type": "execute_result"
    }
   ],
   "source": [
    "model.Convolution_1(torch.rand(1, 33, 42).cuda()).shape"
   ]
  },
  {
   "cell_type": "markdown",
   "metadata": {},
   "source": [
    "# Fine-tune 3:"
   ]
  },
  {
   "cell_type": "code",
   "execution_count": null,
   "metadata": {},
   "outputs": [],
   "source": [
    "class Fine_tune_3(Fine_tune_2):\n",
    "    def __init__(\n",
    "        self, \n",
    "        in_dim: int, \n",
    "        out_dim: int, \n",
    "        atom_size: int, \n",
    "        support: torch.Tensor\n",
    "    ):\n",
    "        super().__init__(in_dim, out_dim, atom_size, support)\n",
    "        self.Convolution_4 = nn.Sequential(           \n",
    "            nn.Conv1d(in_channels=128, out_channels=512, kernel_size=3, padding=1),  # Maintain spatial dimensions\n",
    "            nn.BatchNorm1d(512),\n",
    "            nn.ReLU(),\n",
    "\n",
    "            nn.Conv1d(512, 1024, kernel_size=3, padding=1),  # Maintain spatial dimensions\n",
    "            nn.BatchNorm1d(1024),\n",
    "            nn.ReLU(),\n",
    "\n",
    "            nn.Conv1d(1024, 1536, kernel_size=3, padding=1),#, dilation=2),  # Maintain spatial dimensions\n",
    "            nn.BatchNorm1d(1536),\n",
    "            nn.ReLU(),\n",
    "            nn.MaxPool1d(kernel_size=2),\n",
    "            \n",
    "            #  Bottle neck\n",
    "            nn.Conv1d(1536, 128, kernel_size=1, padding=1),  # Maintain spatial dimensions\n",
    "            nn.BatchNorm1d(128),\n",
    "            nn.ReLU(),\n",
    "        )\n",
    "        \n",
    "    def dist(self, x: torch.Tensor) -> torch.Tensor:\n",
    "        \"\"\"Get distribution for atoms.\"\"\"\n",
    "        x = x.permute(0, 2, 1)\n",
    "        Conv_1 = self.Convolution_1(x) # [batch_size, 42, 128]\n",
    "        Conv_2 = self.Convolution_2(Conv_1)\n",
    "        Conv_3 = self.Convolution_3(Conv_2)\n",
    "        Conv_4 = self.Convolution_4(Conv_3)\n",
    "\n",
    "        linear = self.flatten(Conv_4)\n",
    "        linear = self.Linear_layers(linear)\n",
    "        # feature = torch.sum(feature, dim=1, keepdim=False) # [batch_size, 128]\n",
    "        adv_hid = F.relu(self.advantage_hidden_layer(linear))\n",
    "        val_hid = F.relu(self.value_hidden_layer(linear))\n",
    "        \n",
    "        advantage = self.advantage_layer(adv_hid).view(\n",
    "            -1, self.out_dim, self.atom_size\n",
    "        )\n",
    "        value = self.value_layer(val_hid).view(-1, 1, self.atom_size)\n",
    "        q_atoms = value + advantage - advantage.mean(dim=1, keepdim=True)\n",
    "        \n",
    "        dist = F.softmax(q_atoms, dim=-1)\n",
    "        dist = dist.clamp(min=1e-3)  # for avoiding nans\n",
    "        \n",
    "        return dist"
   ]
  },
  {
   "cell_type": "code",
   "execution_count": null,
   "metadata": {},
   "outputs": [],
   "source": [
    "model = Fine_tune_3(1, 3, 51, torch.tensor([i for i in range(-20, 21)]))"
   ]
  },
  {
   "cell_type": "code",
   "execution_count": null,
   "metadata": {},
   "outputs": [
    {
     "data": {
      "text/plain": [
       "torch.Size([1, 64])"
      ]
     },
     "execution_count": 22,
     "metadata": {},
     "output_type": "execute_result"
    }
   ],
   "source": [
    "model.cuda()\n",
    "conv_output = model.Convolution_1(torch.rand(1, 33, 42).cuda())\n",
    "conv2_output = model.Convolution_2(conv_output)\n",
    "conv3_output = model.Convolution_3(conv2_output)\n",
    "conv4_output = model.Convolution_4(conv3_output)\n",
    "flattened_output = model.flatten(conv4_output)\n",
    "model.Linear_layers(flattened_output).shape"
   ]
  },
  {
   "cell_type": "code",
   "execution_count": null,
   "metadata": {},
   "outputs": [
    {
     "data": {
      "text/plain": [
       "torch.Size([1, 128, 3])"
      ]
     },
     "execution_count": 23,
     "metadata": {},
     "output_type": "execute_result"
    }
   ],
   "source": [
    "model.Convolution_1(torch.rand(1, 33, 42).cuda()).shape"
   ]
  },
  {
   "cell_type": "code",
   "execution_count": null,
   "metadata": {},
   "outputs": [
    {
     "data": {
      "text/plain": [
       "torch.Size([1, 128, 3])"
      ]
     },
     "execution_count": 24,
     "metadata": {},
     "output_type": "execute_result"
    }
   ],
   "source": [
    "model.Convolution_2(conv_output).shape"
   ]
  },
  {
   "cell_type": "code",
   "execution_count": null,
   "metadata": {},
   "outputs": [
    {
     "data": {
      "text/plain": [
       "torch.Size([1, 128, 3])"
      ]
     },
     "execution_count": 25,
     "metadata": {},
     "output_type": "execute_result"
    }
   ],
   "source": [
    "model.Convolution_3(conv2_output).shape"
   ]
  },
  {
   "cell_type": "code",
   "execution_count": null,
   "metadata": {},
   "outputs": [
    {
     "data": {
      "text/plain": [
       "torch.Size([1, 128, 3])"
      ]
     },
     "execution_count": 26,
     "metadata": {},
     "output_type": "execute_result"
    }
   ],
   "source": [
    "model.Convolution_4(conv3_output).shape"
   ]
  },
  {
   "cell_type": "markdown",
   "metadata": {},
   "source": [
    "# Fine-tune 4:"
   ]
  },
  {
   "cell_type": "code",
   "execution_count": null,
   "metadata": {},
   "outputs": [],
   "source": [
    "class Fine_tune_4(Fine_tune_3):\n",
    "    def __init__(\n",
    "        self, \n",
    "        in_dim: int, \n",
    "        out_dim: int, \n",
    "        atom_size: int, \n",
    "        support: torch.Tensor\n",
    "    ):\n",
    "        super().__init__(in_dim, out_dim, atom_size, support)\n",
    "        self.Convolution_5 = nn.Sequential(           \n",
    "            nn.Conv1d(in_channels=128, out_channels=512, kernel_size=3, padding=1),  # Maintain spatial dimensions\n",
    "            nn.BatchNorm1d(512),\n",
    "            nn.ReLU(),\n",
    "\n",
    "            nn.Conv1d(512, 1024, kernel_size=3, padding=1),  # Maintain spatial dimensions\n",
    "            nn.BatchNorm1d(1024),\n",
    "            nn.ReLU(),\n",
    "\n",
    "            nn.Conv1d(1024, 1536, kernel_size=3, padding=1),#, dilation=2),  # Maintain spatial dimensions\n",
    "            nn.BatchNorm1d(1536),\n",
    "            nn.ReLU(),\n",
    "            nn.MaxPool1d(kernel_size=2),\n",
    "            \n",
    "            #  Bottle neck\n",
    "            nn.Conv1d(1536, 128, kernel_size=1, padding=1),  # Maintain spatial dimensions\n",
    "            nn.BatchNorm1d(128),\n",
    "            nn.ReLU(),\n",
    "        )\n",
    "        \n",
    "    def dist(self, x: torch.Tensor) -> torch.Tensor:\n",
    "        \"\"\"Get distribution for atoms.\"\"\"\n",
    "        x = x.permute(0, 2, 1)\n",
    "        Conv_1 = self.Convolution_1(x) # [batch_size, 42, 128]\n",
    "        Conv_2 = self.Convolution_2(Conv_1)\n",
    "        Conv_3 = self.Convolution_3(Conv_2)\n",
    "        Conv_4 = self.Convolution_4(Conv_3)\n",
    "        Conv_5 = self.Convolution_5(Conv_4)\n",
    "\n",
    "        linear = self.flatten(Conv_5)\n",
    "        linear = self.Linear_layers(linear)\n",
    "        # feature = torch.sum(feature, dim=1, keepdim=False) # [batch_size, 128]\n",
    "        adv_hid = F.relu(self.advantage_hidden_layer(linear))\n",
    "        val_hid = F.relu(self.value_hidden_layer(linear))\n",
    "        \n",
    "        advantage = self.advantage_layer(adv_hid).view(\n",
    "            -1, self.out_dim, self.atom_size\n",
    "        )\n",
    "        value = self.value_layer(val_hid).view(-1, 1, self.atom_size)\n",
    "        q_atoms = value + advantage - advantage.mean(dim=1, keepdim=True)\n",
    "        \n",
    "        dist = F.softmax(q_atoms, dim=-1)\n",
    "        dist = dist.clamp(min=1e-3)  # for avoiding nans\n",
    "        \n",
    "        return dist"
   ]
  },
  {
   "cell_type": "code",
   "execution_count": null,
   "metadata": {},
   "outputs": [],
   "source": [
    "model = Fine_tune_4(1, 3, 51, torch.tensor([i for i in range(-20, 21)]))"
   ]
  },
  {
   "cell_type": "code",
   "execution_count": null,
   "metadata": {},
   "outputs": [
    {
     "data": {
      "text/plain": [
       "torch.Size([1, 64])"
      ]
     },
     "execution_count": 29,
     "metadata": {},
     "output_type": "execute_result"
    }
   ],
   "source": [
    "model.cuda()\n",
    "conv_output = model.Convolution_1(torch.rand(1, 33, 42).cuda())\n",
    "conv2_output = model.Convolution_2(conv_output)\n",
    "conv3_output = model.Convolution_3(conv2_output)\n",
    "conv4_output = model.Convolution_4(conv3_output)\n",
    "conv5_output = model.Convolution_5(conv4_output)\n",
    "flattened_output = model.flatten(conv5_output)\n",
    "model.Linear_layers(flattened_output).shape"
   ]
  },
  {
   "cell_type": "code",
   "execution_count": null,
   "metadata": {},
   "outputs": [
    {
     "data": {
      "text/plain": [
       "torch.Size([1, 128, 3])"
      ]
     },
     "execution_count": 30,
     "metadata": {},
     "output_type": "execute_result"
    }
   ],
   "source": [
    "model.Convolution_1(torch.rand(1, 33, 42).cuda()).shape"
   ]
  },
  {
   "cell_type": "code",
   "execution_count": null,
   "metadata": {},
   "outputs": [
    {
     "data": {
      "text/plain": [
       "torch.Size([1, 128, 3])"
      ]
     },
     "execution_count": 31,
     "metadata": {},
     "output_type": "execute_result"
    }
   ],
   "source": [
    "model.Convolution_2(conv_output).shape"
   ]
  },
  {
   "cell_type": "code",
   "execution_count": null,
   "metadata": {},
   "outputs": [
    {
     "data": {
      "text/plain": [
       "torch.Size([1, 128, 3])"
      ]
     },
     "execution_count": 32,
     "metadata": {},
     "output_type": "execute_result"
    }
   ],
   "source": [
    "model.Convolution_3(conv2_output).shape"
   ]
  },
  {
   "cell_type": "code",
   "execution_count": null,
   "metadata": {},
   "outputs": [
    {
     "data": {
      "text/plain": [
       "torch.Size([1, 128, 3])"
      ]
     },
     "execution_count": 33,
     "metadata": {},
     "output_type": "execute_result"
    }
   ],
   "source": [
    "model.Convolution_4(conv3_output).shape"
   ]
  },
  {
   "cell_type": "code",
   "execution_count": null,
   "metadata": {},
   "outputs": [
    {
     "data": {
      "text/plain": [
       "torch.Size([1, 128, 3])"
      ]
     },
     "execution_count": 34,
     "metadata": {},
     "output_type": "execute_result"
    }
   ],
   "source": [
    "model.Convolution_5(conv4_output).shape"
   ]
  },
  {
   "cell_type": "markdown",
   "metadata": {},
   "source": [
    "# Fine-tune 5:"
   ]
  },
  {
   "cell_type": "code",
   "execution_count": null,
   "metadata": {},
   "outputs": [],
   "source": [
    "class Fine_tune_5(Fine_tune_4):\n",
    "    def __init__(\n",
    "        self, \n",
    "        in_dim: int, \n",
    "        out_dim: int, \n",
    "        atom_size: int, \n",
    "        support: torch.Tensor\n",
    "    ):\n",
    "        super().__init__(in_dim, out_dim, atom_size, support)\n",
    "        self.Dilated_Convolution_1 = nn.Sequential(           \n",
    "    \n",
    "            nn.Conv1d(in_channels=128, out_channels=128, kernel_size=2, padding=1,dilation=2),  # Maintain spatial dimensions\n",
    "            nn.BatchNorm1d(128),\n",
    "            nn.ReLU(),\n",
    "        )\n",
    "        \n",
    "    def dist(self, x: torch.Tensor) -> torch.Tensor:\n",
    "        \"\"\"Get distribution for atoms.\"\"\"\n",
    "        x = x.permute(0, 2, 1)\n",
    "        Conv_1 = self.Convolution_1(x) # [batch_size, 42, 128]\n",
    "        Conv_2 = self.Convolution_2(Conv_1)\n",
    "        Conv_3 = self.Convolution_3(Conv_2)\n",
    "        Conv_4 = self.Convolution_4(Conv_3)\n",
    "        Conv_5 = self.Convolution_5(Conv_4)\n",
    "        Dilated_conv = self.Dilated_Convolution_1(Conv_5)\n",
    "\n",
    "        linear = self.flatten(Dilated_conv)\n",
    "        linear = self.Linear_layers(linear)\n",
    "        # feature = torch.sum(feature, dim=1, keepdim=False) # [batch_size, 128]\n",
    "        adv_hid = F.relu(self.advantage_hidden_layer(linear))\n",
    "        val_hid = F.relu(self.value_hidden_layer(linear))\n",
    "        \n",
    "        advantage = self.advantage_layer(adv_hid).view(\n",
    "            -1, self.out_dim, self.atom_size\n",
    "        )\n",
    "        value = self.value_layer(val_hid).view(-1, 1, self.atom_size)\n",
    "        q_atoms = value + advantage - advantage.mean(dim=1, keepdim=True)\n",
    "        \n",
    "        dist = F.softmax(q_atoms, dim=-1)\n",
    "        dist = dist.clamp(min=1e-3)  # for avoiding nans\n",
    "        \n",
    "        return dist"
   ]
  },
  {
   "cell_type": "code",
   "execution_count": null,
   "metadata": {},
   "outputs": [],
   "source": [
    "model = Fine_tune_5(1, 3, 51, torch.tensor([i for i in range(-20, 21)]))"
   ]
  },
  {
   "cell_type": "code",
   "execution_count": null,
   "metadata": {},
   "outputs": [
    {
     "data": {
      "text/plain": [
       "torch.Size([1, 64])"
      ]
     },
     "execution_count": 37,
     "metadata": {},
     "output_type": "execute_result"
    }
   ],
   "source": [
    "model.cuda()\n",
    "conv_output = model.Convolution_1(torch.rand(1, 33, 42).cuda())\n",
    "conv2_output = model.Convolution_2(conv_output)\n",
    "conv3_output = model.Convolution_3(conv2_output)\n",
    "conv4_output = model.Convolution_4(conv3_output)\n",
    "conv5_output = model.Convolution_5(conv4_output)\n",
    "dilated = model.Dilated_Convolution_1(conv5_output)\n",
    "flattened_output = model.flatten(dilated)\n",
    "model.Linear_layers(flattened_output).shape"
   ]
  },
  {
   "cell_type": "code",
   "execution_count": null,
   "metadata": {},
   "outputs": [
    {
     "data": {
      "text/plain": [
       "torch.Size([1, 128, 3])"
      ]
     },
     "execution_count": 38,
     "metadata": {},
     "output_type": "execute_result"
    }
   ],
   "source": [
    "model.Convolution_1(torch.rand(1, 33, 42).cuda()).shape"
   ]
  },
  {
   "cell_type": "code",
   "execution_count": null,
   "metadata": {},
   "outputs": [
    {
     "data": {
      "text/plain": [
       "torch.Size([1, 128, 3])"
      ]
     },
     "execution_count": 39,
     "metadata": {},
     "output_type": "execute_result"
    }
   ],
   "source": [
    "model.Convolution_2(conv_output).shape"
   ]
  },
  {
   "cell_type": "code",
   "execution_count": null,
   "metadata": {},
   "outputs": [
    {
     "data": {
      "text/plain": [
       "torch.Size([1, 128, 3])"
      ]
     },
     "execution_count": 40,
     "metadata": {},
     "output_type": "execute_result"
    }
   ],
   "source": [
    "model.Convolution_3(conv2_output).shape"
   ]
  },
  {
   "cell_type": "code",
   "execution_count": null,
   "metadata": {},
   "outputs": [
    {
     "data": {
      "text/plain": [
       "torch.Size([1, 128, 3])"
      ]
     },
     "execution_count": 41,
     "metadata": {},
     "output_type": "execute_result"
    }
   ],
   "source": [
    "model.Convolution_4(conv3_output).shape"
   ]
  },
  {
   "cell_type": "code",
   "execution_count": null,
   "metadata": {},
   "outputs": [
    {
     "data": {
      "text/plain": [
       "torch.Size([1, 128, 3])"
      ]
     },
     "execution_count": 42,
     "metadata": {},
     "output_type": "execute_result"
    }
   ],
   "source": [
    "model.Convolution_5(conv4_output).shape"
   ]
  },
  {
   "cell_type": "code",
   "execution_count": null,
   "metadata": {},
   "outputs": [
    {
     "data": {
      "text/plain": [
       "torch.Size([1, 128, 3])"
      ]
     },
     "execution_count": 43,
     "metadata": {},
     "output_type": "execute_result"
    }
   ],
   "source": [
    "model.Dilated_Convolution_1(conv5_output).shape"
   ]
  },
  {
   "cell_type": "markdown",
   "metadata": {},
   "source": [
    "# Rainbow Agent\n",
    "\n",
    "Here is a summary of DQNAgent class.\n",
    "\n",
    "| Method           | Note                                                 |\n",
    "| ---              | ---                                                  |\n",
    "|select_action     | select an action from the input state.               |\n",
    "|step              | take an action and return the response of the env.   |\n",
    "|compute_dqn_loss  | return dqn loss.                                     |\n",
    "|update_model      | update the model by gradient descent.                |\n",
    "|target_hard_update| hard update from the local model to the target model.|\n",
    "|train             | train the agent during num_frames.                   |\n",
    "|test              | test the agent (1 episode).                          |\n",
    "|plot              | plot the training progresses.                        |\n",
    "\n",
    "#### Categorical DQN + Double DQN\n",
    "\n",
    "The idea of Double Q-learning is to reduce overestimations by decomposing the max operation in the target into action selection and action evaluation. Here, we use `self.dqn` instead of `self.dqn_target` to obtain the target actions.\n",
    "\n",
    "```\n",
    "        # Categorical DQN + Double DQN\n",
    "        # target_dqn is used when we don't employ double DQN\n",
    "        next_action = self.dqn(next_state).argmax(1)\n",
    "        next_dist = self.dqn_target.dist(next_state)\n",
    "        next_dist = next_dist[range(self.batch_size), next_action]\n",
    "```"
   ]
  },
  {
   "cell_type": "code",
   "execution_count": 22,
   "metadata": {},
   "outputs": [],
   "source": [
    "class DQNAgent:\n",
    "    \"\"\"DQN Agent interacting with environment.\n",
    "    \n",
    "    Attribute:\n",
    "        env (gym.Env): openAI Gym environment\n",
    "        memory (PrioritizedReplayBuffer): replay memory to store transitions\n",
    "        batch_size (int): batch size for sampling\n",
    "        target_update (int): period for target model's hard update\n",
    "        gamma (float): discount factor\n",
    "        dqn (Network): model to train and select actions\n",
    "        dqn_target (Network): target model to update\n",
    "        optimizer (torch.optim): optimizer for training dqn\n",
    "        transition (list): transition information including \n",
    "                           state, action, reward, next_state, done\n",
    "        v_min (float): min value of support\n",
    "        v_max (float): max value of support\n",
    "        atom_size (int): the unit number of support\n",
    "        support (torch.Tensor): support for categorical dqn\n",
    "        use_n_step (bool): whether to use n_step memory\n",
    "        n_step (int): step number to calculate n-step td error\n",
    "        memory_n (ReplayBuffer): n-step replay buffer\n",
    "    \"\"\"\n",
    "\n",
    "    def __init__(\n",
    "        self, \n",
    "        env: gym.Env,\n",
    "        memory_size: int,\n",
    "        batch_size: int,\n",
    "        target_update: int,\n",
    "        seed: int,\n",
    "        gamma: float = 0.99,\n",
    "        # PER parameters\n",
    "        alpha: float = 0.2,\n",
    "        beta: float = 0.6,\n",
    "        prior_eps: float = 1e-6,\n",
    "        # Categorical DQN parameters\n",
    "        v_min: float = 0.0,\n",
    "        v_max: float = 200.0,\n",
    "        atom_size: int = 51,\n",
    "        # N-step Learning\n",
    "        n_step: int = 1,\n",
    "        model_path: str = None,\n",
    "        lr: int = 0.001,\n",
    "        P_memory_path: str = None,\n",
    "        N_step_memory_path: str = None,\n",
    "        Net = Network,\n",
    "    ):\n",
    "        \"\"\"Initialization.\n",
    "        \n",
    "        Args:\n",
    "            env (gym.Env): openAI Gym environment\n",
    "            memory_size (int): length of memory\n",
    "            batch_size (int): batch size for sampling\n",
    "            target_update (int): period for target model's hard update\n",
    "            lr (float): learning rate\n",
    "            gamma (float): discount factor\n",
    "            alpha (float): determines how much prioritization is used\n",
    "            beta (float): determines how much importance sampling is used\n",
    "            prior_eps (float): guarantees every transition can be sampled\n",
    "            v_min (float): min value of support\n",
    "            v_max (float): max value of support\n",
    "            atom_size (int): the unit number of support\n",
    "            n_step (int): step number to calculate n-step td error\n",
    "        \"\"\"\n",
    "        obs_dim = env.observation_space.shape\n",
    "        action_dim = env.action_space.n\n",
    "        \n",
    "        self.env = env\n",
    "        self.batch_size = batch_size\n",
    "        self.target_update = target_update\n",
    "        self.seed = seed\n",
    "        self.gamma = gamma\n",
    "        \n",
    "        # ploting data\n",
    "        self.episode = 0\n",
    "        self.inventory = []\n",
    "        self.portfolio = []\n",
    "        self.losses = []\n",
    "        self.scores = []\n",
    "\n",
    "        # NoisyNet: All attributes related to epsilon are removed\n",
    "        \n",
    "        # device: cpu / gpu\n",
    "        self.device = torch.device(\n",
    "            \"cuda\" if torch.cuda.is_available() else \"cpu\"\n",
    "        )\n",
    "        print(self.device)\n",
    "        \n",
    "        # PER\n",
    "        # memory for 1-step Learning\n",
    "        self.beta = beta\n",
    "        self.prior_eps = prior_eps\n",
    "        self.memory = PrioritizedReplayBuffer(\n",
    "            obs_dim, memory_size, batch_size, alpha=alpha, gamma=gamma\n",
    "        )\n",
    "        if P_memory_path:\n",
    "            with open(P_memory_path, \"rb\") as file:\n",
    "                self.memory = pickle.load(file)\n",
    "                 \n",
    "\n",
    "        # memory for N-step Learning\n",
    "        self.use_n_step = True if n_step > 1 else False\n",
    "        if self.use_n_step:\n",
    "            self.n_step = n_step\n",
    "            self.memory_n = ReplayBuffer(\n",
    "                obs_dim, memory_size, batch_size, n_step=n_step, gamma=gamma\n",
    "            )\n",
    "        if N_step_memory_path:\n",
    "            with open(N_step_memory_path, \"rb\") as file:\n",
    "                self.n_step = pickle.load(file)\n",
    "            \n",
    "        # Categorical DQN parameters\n",
    "        self.v_min = v_min\n",
    "        self.v_max = v_max\n",
    "        self.atom_size = atom_size\n",
    "        self.support = torch.linspace(\n",
    "            self.v_min, self.v_max, self.atom_size\n",
    "        ).to(self.device)\n",
    "\n",
    "        # networks: dqn, dqn_target\n",
    "        self.dqn = Net(\n",
    "            obs_dim[1], action_dim, self.atom_size, self.support\n",
    "        ).to(self.device)\n",
    "\n",
    "        if model_path != None:\n",
    "            self.dqn.load_state_dict(torch.load(model_path)['dqn_state_dict'])\n",
    "\n",
    "\n",
    "        self.dqn_target = Net(\n",
    "            obs_dim[1], action_dim, self.atom_size, self.support\n",
    "        ).to(self.device)\n",
    "        self.dqn_target.load_state_dict(self.dqn.state_dict())\n",
    "        self.dqn_target.eval()\n",
    "        \n",
    "        # optimizer\n",
    "        self.optimizer = optim.SGD(self.dqn.parameters(),lr=lr)\n",
    "        self.scheduler = ExponentialLR(self.optimizer, gamma=0.999993)\n",
    "        # transition to store in memory\n",
    "        self.transition = list()\n",
    "        \n",
    "        # mode: train / test\n",
    "        self.is_test = False\n",
    "\n",
    "    def Hyper_param(\n",
    "        self, \n",
    "        env: gym.Env,\n",
    "        target_update: int,\n",
    "        seed: int,\n",
    "        gamma: float = 0.9999999,\n",
    "        model_path: str = None,\n",
    "        lr: int = 0.001\n",
    "    ):\n",
    "        obs_dim = env.observation_space.shape\n",
    "        action_dim = env.action_space.n\n",
    "        \n",
    "        self.env = env\n",
    "        self.target_update = target_update\n",
    "        self.seed = seed\n",
    "        \n",
    "        # Reinitialize the optimizer with the new learning rate\n",
    "        self.optimizer = optim.SGD(self.dqn.parameters(), lr=lr)\n",
    "        \n",
    "        # Initialize the ExponentialLR scheduler with the new gamma\n",
    "        self.scheduler = ExponentialLR(self.optimizer, gamma=gamma)\n",
    "        \n",
    "        # Update the scheduler to apply the changes immediately\n",
    "        self.scheduler.step()\n",
    "\n",
    "        # Other initialization code...\n",
    "\n",
    "        # mode: train / test\n",
    "        self.is_test = False\n",
    "\n",
    "\n",
    "\n",
    "    def select_action(self, state: np.ndarray) -> np.ndarray:\n",
    "        \"\"\"Select an action from the input state.\"\"\"\n",
    "        # NoisyNet: no epsilon greedy action selection\n",
    "        selected_action = self.dqn(\n",
    "            torch.FloatTensor(state).to(self.device)\n",
    "        ).argmax()\n",
    "        selected_action = selected_action.detach().cpu().numpy()\n",
    "        \n",
    "        if not self.is_test:\n",
    "            self.transition = [state, selected_action]\n",
    "        if self.is_test:\n",
    "            self.dqn.reset_noise()\n",
    "            self.dqn_target.reset_noise()\n",
    "\n",
    "        return selected_action\n",
    "\n",
    "    def step(self, action: np.ndarray) -> Tuple[np.ndarray, np.float64, bool]:\n",
    "        \"\"\"Take an action and return the response of the env.\"\"\"\n",
    "        next_state, reward, terminated, portfolio, item = self.env.step(action)\n",
    "        \n",
    "        self.portfolio.append(portfolio)\n",
    "        if len(item) != 0:\n",
    "                self.inventory.append(item[0])\n",
    "        elif len(self.inventory) != 0:\n",
    "                self.inventory.append(self.inventory[-1])\n",
    "        else:\n",
    "                self.inventory.append(0)\n",
    "        \n",
    "        \n",
    "        done = terminated\n",
    "        \n",
    "        if not self.is_test:\n",
    "            self.transition += [reward, next_state, done]\n",
    "            \n",
    "            # N-step transition\n",
    "            if self.use_n_step:\n",
    "                one_step_transition = self.memory_n.store(*self.transition)\n",
    "            # 1-step transition\n",
    "            else:\n",
    "                one_step_transition = self.transition\n",
    "\n",
    "            # add a single step transition\n",
    "            if one_step_transition:\n",
    "                self.memory.store(*one_step_transition)\n",
    "    \n",
    "        return next_state, reward, done\n",
    "\n",
    "    def update_model(self) -> torch.Tensor:\n",
    "        \"\"\"Update the model by gradient descent.\"\"\"\n",
    "        # PER needs beta to calculate weights\n",
    "        samples = self.memory.sample_batch(self.beta)\n",
    "        weights = torch.FloatTensor(\n",
    "            samples[\"weights\"].reshape(-1, 1)\n",
    "        ).to(self.device)\n",
    "        indices = samples[\"indices\"]\n",
    "        \n",
    "        # 1-step Learning loss\n",
    "        elementwise_loss = self._compute_dqn_loss(samples, self.gamma)\n",
    "        \n",
    "        # PER: importance sampling before average\n",
    "        loss = torch.mean(elementwise_loss * weights)\n",
    "        \n",
    "        # N-step Learning loss\n",
    "        # we are gonna combine 1-step loss and n-step loss so as to\n",
    "        # prevent high-variance. The original rainbow employs n-step loss only.\n",
    "        if self.use_n_step:\n",
    "            gamma = self.gamma ** self.n_step\n",
    "            samples = self.memory_n.sample_batch_from_idxs(indices)\n",
    "            elementwise_loss_n_loss = self._compute_dqn_loss(samples, gamma)\n",
    "            elementwise_loss += elementwise_loss_n_loss\n",
    "            \n",
    "            # PER: importance sampling before average\n",
    "            loss = torch.mean(elementwise_loss * weights)\n",
    "\n",
    "        self.optimizer.zero_grad()\n",
    "        loss.backward()\n",
    "        clip_grad_norm_(self.dqn.parameters(), 10.0)\n",
    "        self.optimizer.step()\n",
    "        \n",
    "        # PER: update priorities\n",
    "        loss_for_prior = elementwise_loss.detach().cpu().numpy()\n",
    "        new_priorities = loss_for_prior + self.prior_eps\n",
    "        self.memory.update_priorities(indices, new_priorities)\n",
    "        \n",
    "        # NoisyNet: reset noise\n",
    "        self.dqn.reset_noise()\n",
    "        self.dqn_target.reset_noise()\n",
    "\n",
    "        return loss.item()\n",
    "        \n",
    "    def train(self):\n",
    "        \"\"\"Train the agent.\"\"\"\n",
    "        self.is_test = False\n",
    "\n",
    "        state = self.env.reset(seed = self.seed)\n",
    "        update_cnt = 0\n",
    "        score = 0\n",
    "        # step = 0\n",
    "        # while True:\n",
    "        train_progress = tqdm(range(14258), desc=\"Training\", position=0, leave=True)\n",
    "        for step in train_progress:\n",
    "            action = self.select_action(state)\n",
    "            next_state, reward, done = self.step(action)\n",
    "\n",
    "            state = next_state\n",
    "            score += reward\n",
    "            self.scores.append(score*100)\n",
    "            # NoisyNet: removed decrease of epsilon\n",
    "            \n",
    "            # PER: increase beta\n",
    "            fraction = min(step / 14258, 1.0)\n",
    "            self.beta = self.beta + fraction * (1.0 - self.beta)\n",
    "            \n",
    "            # plotting\n",
    "            if (step+1) % 200 ==0 and (step+1) % 1000 !=0 :\n",
    "                self._plot(self.episode,n_score = 150, n_portfolio=14258)\n",
    "            if (step+1) % 1000 == 0:\n",
    "                self._plot_all()\n",
    "\n",
    "            # if episode ends\n",
    "            if done:\n",
    "                state = self.env.reset(seed = self.seed)\n",
    "                score = 0\n",
    "                self.episode += 1\n",
    "                break\n",
    "\n",
    "            # if training is ready\n",
    "            if len(self.memory) >= self.batch_size:\n",
    "                loss = self.update_model()\n",
    "                train_progress.set_postfix({\"loss\": loss,\"Portfolio\":self.portfolio[-1],\"Inventory\":self.inventory[-1]})\n",
    "                self.losses.append(loss)\n",
    "                update_cnt += 1\n",
    "                # if hard update is needed\n",
    "                if update_cnt % self.target_update == 0:\n",
    "                    self._target_hard_update()\n",
    "                    self.scheduler.step()\n",
    "\n",
    "\n",
    "    def save_model(self, directory=\"/home/ece/anaconda3/bin/project-RL304/project-RL304/Models\",filename = \"\",memory_fn=\"\"):\n",
    "        \"\"\"Save the model parameters to a file.\"\"\"\n",
    "        filepath = os.path.join(directory, filename)\n",
    "        torch.save({\n",
    "            'dqn_state_dict': self.dqn.state_dict(),\n",
    "            'dqn_target_dict': self.dqn_target.state_dict(),\n",
    "        }, filepath)       \n",
    "        with open(\"P_MEMORY_\"+memory_fn+\".pkl\", \"wb\") as file:\n",
    "            pickle.dump(self.memory, file, protocol=pickle.HIGHEST_PROTOCOL)\n",
    "        if self.use_n_step:\n",
    "            with open(\"N_MEMORY_\"+memory_fn+\".pkl\",\"wb\") as file:\n",
    "                pickle.dump(self.memory_n, file, protocol=pickle.HIGHEST_PROTOCOL)\n",
    "            \n",
    "    def test(self):\n",
    "        \"\"\"Test the agent.\"\"\"\n",
    "        self.is_test = True\n",
    "        self.dqn.eval()\n",
    "        state = self.env.reset(seed = self.seed)\n",
    "        score = 0\n",
    "        original_len = [len(self.scores),len(self.portfolio),len(self.inventory)]\n",
    "        # step = 0\n",
    "        # while True:\n",
    "        test_progress = tqdm(range(14258), desc=\"Testing\", position=0, leave=True)\n",
    "        for step in test_progress:\n",
    "            action = self.select_action(state)\n",
    "            next_state, reward, done = self.step(action)\n",
    "\n",
    "            state = next_state\n",
    "            score += reward\n",
    "            self.scores.append(score*100)\n",
    "            \n",
    "            test_progress.set_postfix({\"Score\": score,\"Portfolio\":self.portfolio[-1],\"Inventory\":self.inventory[-1]})\n",
    "            # plotting\n",
    "            if (step+1) % 200 ==0:\n",
    "                self._plot(self.episode,n_score = 150, n_portfolio=14258)\n",
    "\n",
    "            # if episode ends\n",
    "            if done:\n",
    "                state = self.env.reset(seed = self.seed)\n",
    "                score = 0\n",
    "                self.scores = self.scores[:original_len[0]-1]\n",
    "                self.portfolio = self.portfolio[:original_len[1]-1]\n",
    "                self.inventory = self.inventory[:original_len[2]-1]\n",
    "                break\n",
    "        self.dqn.train()\n",
    "\n",
    "    def _compute_dqn_loss(self, samples: Dict[str, np.ndarray], gamma: float) -> torch.Tensor:\n",
    "        \"\"\"Return categorical dqn loss.\"\"\"\n",
    "        device = self.device  # for shortening the following lines\n",
    "        state = torch.FloatTensor(samples[\"obs\"]).to(device)\n",
    "        next_state = torch.FloatTensor(samples[\"next_obs\"]).to(device)\n",
    "        action = torch.LongTensor(samples[\"acts\"]).to(device)\n",
    "        reward = torch.FloatTensor(samples[\"rews\"].reshape(-1, 1)).to(device)\n",
    "        done = torch.FloatTensor(samples[\"done\"].reshape(-1, 1)).to(device)\n",
    "        \n",
    "        # Categorical DQN algorithm\n",
    "        delta_z = float(self.v_max - self.v_min) / (self.atom_size - 1)\n",
    "\n",
    "        with torch.no_grad():\n",
    "            # Double DQN\n",
    "            next_action = self.dqn(next_state).argmax(1)\n",
    "            next_dist = self.dqn_target.dist(next_state)\n",
    "            next_dist = next_dist[range(self.batch_size), next_action]\n",
    "\n",
    "            t_z = reward + (1 - done) * gamma * self.support\n",
    "            t_z = t_z.clamp(min=self.v_min, max=self.v_max)\n",
    "            b = (t_z - self.v_min) / delta_z\n",
    "            l = b.floor().long()\n",
    "            u = b.ceil().long()\n",
    "\n",
    "            offset = (\n",
    "                torch.linspace(\n",
    "                    0, (self.batch_size - 1) * self.atom_size, self.batch_size\n",
    "                ).long()\n",
    "                .unsqueeze(1)\n",
    "                .expand(self.batch_size, self.atom_size)\n",
    "                .to(self.device)\n",
    "            )\n",
    "\n",
    "            proj_dist = torch.zeros(next_dist.size(), device=self.device)\n",
    "            proj_dist.view(-1).index_add_(\n",
    "                0, (l + offset).view(-1), (next_dist * (u.float() - b)).view(-1)\n",
    "            )\n",
    "            proj_dist.view(-1).index_add_(\n",
    "                0, (u + offset).view(-1), (next_dist * (b - l.float())).view(-1)\n",
    "            )\n",
    "\n",
    "        dist = self.dqn.dist(state)\n",
    "        log_p = torch.log(dist[range(self.batch_size), action])\n",
    "        elementwise_loss = -(proj_dist * log_p).sum(1)\n",
    "\n",
    "        return elementwise_loss\n",
    "\n",
    "    def _target_hard_update(self):\n",
    "        \"\"\"Hard update: target <- local.\"\"\"\n",
    "        self.dqn_target.load_state_dict(self.dqn.state_dict())\n",
    "                \n",
    "    def _plot(\n",
    "        self,\n",
    "        episode: int,\n",
    "        n_score:int,\n",
    "        n_portfolio:int\n",
    "    ):\n",
    "        \"\"\"Plot the training progresses.\"\"\"\n",
    "        if len(self.portfolio) < 14258:\n",
    "            n_portfolio = len(self.portfolio)\n",
    "\n",
    "        clear_output(True)\n",
    "        plt.figure(figsize=(15, 10))  # Adjusted figure size\n",
    "        \n",
    "        if len(self.losses) > 0:\n",
    "            plt.subplot(221)  # Subplot 1\n",
    "            plt.title('episode %s. score: %s' % (episode, np.mean(self.scores[-10:])))\n",
    "            plt.plot(self.scores[-n_score:])\n",
    "            plt.subplot(222)  # Subplot 2\n",
    "            plt.title('loss')\n",
    "            plt.plot(self.losses[-n_score:])#\n",
    "        \n",
    "        plt.subplot(223)  # Subplot 3\n",
    "        plt.title('episode %s. portfolio: %s' % (episode, self.portfolio[-1]))\n",
    "        plt.plot(self.portfolio[-n_portfolio:])\n",
    "        \n",
    "        plt.subplot(224)  # Subplot 4\n",
    "        plt.title('episode %s. inventory: %s' % (episode, np.mean(self.inventory[-10:])))\n",
    "        plt.plot(self.inventory[-n_portfolio:])#\n",
    "        \n",
    "        plt.tight_layout()  # Adjust subplots to fit into the figure\n",
    "        plt.show()\n",
    "    def _plot_all(\n",
    "        self,\n",
    "    ):\n",
    "        self._plot(episode=1,n_score=len(self.scores),n_portfolio=len(self.portfolio))\n",
    "    def get_plot_data(self):\n",
    "        return self.scores, self.losses, self.portfolio, self.inventory\n",
    "    def clear_plot_history(self,ALL = False,scores = False, losses = False, portfolio = False, inventory=False, episode = False):\n",
    "        if ALL:\n",
    "            self.episode = 0\n",
    "            self.inventory = []\n",
    "            self.portfolio = []\n",
    "            self.losses = []\n",
    "            self.scores = []\n",
    "            return\n",
    "        elif scores:\n",
    "            self.scores = []\n",
    "        elif losses:\n",
    "            self.losses = []\n",
    "        elif portfolio:\n",
    "            self.portfolio = []\n",
    "        elif inventory:\n",
    "            self.inventory = []\n",
    "        elif episode:\n",
    "            self.episode = 0"
   ]
  },
  {
   "cell_type": "markdown",
   "metadata": {},
   "source": [
    "## Environment\n",
    "\n",
    "You can see the [code](https://github.com/Farama-Foundation/Gymnasium/blob/main/gymnasium/envs/classic_control/cartpole.py) and [configurations](https://github.com/Farama-Foundation/Gymnasium/blob/main/gymnasium/envs/classic_control/cartpole.py#L91) of CartPole-v1 from Farama Gymnasium's repository."
   ]
  },
  {
   "cell_type": "code",
   "execution_count": 23,
   "metadata": {},
   "outputs": [],
   "source": [
    "# environment\n",
    "env = CustomEnv()"
   ]
  },
  {
   "cell_type": "markdown",
   "metadata": {},
   "source": [
    "## Set random seed"
   ]
  },
  {
   "cell_type": "code",
   "execution_count": 24,
   "metadata": {},
   "outputs": [],
   "source": [
    "seed = 2968686879\n",
    "\n",
    "def seed_torch(seed):\n",
    "    torch.manual_seed(seed)\n",
    "    if torch.backends.cudnn.enabled:\n",
    "        torch.cuda.manual_seed(seed)\n",
    "        torch.backends.cudnn.benchmark = False\n",
    "        torch.backends.cudnn.deterministic = True\n",
    "\n",
    "np.random.seed(seed)\n",
    "random.seed(seed)\n",
    "seed_torch(seed)"
   ]
  },
  {
   "cell_type": "markdown",
   "metadata": {},
   "source": [
    "## Initialize"
   ]
  },
  {
   "cell_type": "code",
   "execution_count": 25,
   "metadata": {},
   "outputs": [
    {
     "name": "stdout",
     "output_type": "stream",
     "text": [
      "cuda\n"
     ]
    }
   ],
   "source": [
    "# parameters\n",
    "memory_size = 14258\n",
    "batch_size = 4 #640\n",
    "target_update = 100 #500\n",
    "\n",
    "# train\n",
    "agent = DQNAgent(env, memory_size, batch_size, target_update, seed)#,model_path=\"./Models/CONV1x3v2_agent_07-05-2024-23-01NEW_.pth\", Net=Fine_tune_1)#, P_memory_path= \"./P_MEMORY_07-05-2024-22-53.pkl\")"
   ]
  },
  {
   "cell_type": "code",
   "execution_count": 26,
   "metadata": {},
   "outputs": [],
   "source": [
    "# agent.Hyper_param(env,100,seed,lr=1,gamma=0.99)"
   ]
  },
  {
   "cell_type": "code",
   "execution_count": 27,
   "metadata": {},
   "outputs": [],
   "source": [
    "# # Freeze Convolution_1 parameters\n",
    "# for param in agent.dqn.Convolution_1.parameters():\n",
    "#     param.requires_grad = False\n",
    "\n",
    "# # Freeze Convolution_2 parameters\n",
    "# for param in agent.dqn.Convolution_2.parameters():\n",
    "#     param.requires_grad = False\n",
    "\n",
    "\n",
    "# # Freeze Convolution_3 parameters\n",
    "# for param in agent.dqn.Convolution_3.parameters():\n",
    "#     param.requires_grad = False\n",
    "\n",
    "# # Freeze Convolution_4 parameters\n",
    "# for param in agent.dqn.Convolution_4.parameters():\n",
    "#     param.requires_grad = False\n",
    "\n",
    "# # Freeze Convolution_5 parameters\n",
    "# for param in agent.dqn.Convolution_5.parameters():\n",
    "#     param.requires_grad = False\n",
    "\n",
    "\n",
    "# # Freeze Convolution_5 parameters\n",
    "# for param in agent.dqn.Dilated_Convolution_1.parameters():\n",
    "#     param.requires_grad = False"
   ]
  },
  {
   "cell_type": "markdown",
   "metadata": {},
   "source": [
    "## Train"
   ]
  },
  {
   "cell_type": "code",
   "execution_count": 28,
   "metadata": {},
   "outputs": [
    {
     "data": {
      "image/png": "[encoded data removed]",
      "text/plain": [
       "<Figure size 1080x720 with 4 Axes>"
      ]
     },
     "metadata": {
      "needs_background": "light"
     },
     "output_type": "display_data"
    },
    {
     "name": "stderr",
     "output_type": "stream",
     "text": [
      "Training:  22%|██▏       | 3110/14258 [27:05<1:37:41,  1.90it/s, loss=3.86, Portfolio=1.8e+3, Inventory=0.47]  "
     ]
    }
   ],
   "source": [
    "i = 0\n",
    "max_inventory: float = 1\n",
    "while i < 100:\n",
    "    i+=1\n",
    "    agent.train()\n",
    "    agent._plot_all()\n",
    "    scores, losses, portfolio, inventory = agent.get_plot_data()\n",
    "    if max(inventory) >= max_inventory:\n",
    "        max_inventory = max(inventory)\n",
    "        now = datetime.now()\n",
    "        timestamp = now.strftime(\"%d-%m-%Y-%H-%M\")\n",
    "        filename = \"CONV1_dropout20_agent_\"+str(timestamp)+\"max_inv=\"+str(max_inventory)+\".pkl\"\n",
    "        agent.save_model(filename=\"CONV1_dropout20_agent_\"+str(timestamp)+\"max_inv=\"+str(max_inventory)+\".pth\")\n",
    "        # with open(filename, \"wb\") as file:\n",
    "        #     pickle.dump(agent, file, protocol=pickle.HIGHEST_PROTOCOL)"
   ]
  },
  {
   "cell_type": "code",
   "execution_count": null,
   "metadata": {},
   "outputs": [],
   "source": [
    "\n",
    "scores, losses, portfolio, inventory = agent.get_plot_data()\n",
    "now = datetime.now()\n",
    "timestamp = now.strftime(\"%d-%m-%Y-%H-%M\")\n",
    "filename = \"CONV1x3v1_agent_\"+str(timestamp)+\"max_inv=\"+str(max(inventory))+\".pkl\"\n",
    "agent.save_model(filename=\"CONV1x3v1_agent_\"+str(timestamp)+\"max_inv=\"+str(max(inventory))+\"min_loss=\"+str(min(losses))+\".pth\",memory_fn=timestamp)\n",
    "# with open(filename, \"wb\") as file:\n",
    "#     pickle.dump(agent, file, protocol=pickle.HIGHEST_PROTOCOL)"
   ]
  },
  {
   "cell_type": "markdown",
   "metadata": {},
   "source": [
    "## Test\n",
    "\n",
    "Run the trained agent (1 episode)."
   ]
  },
  {
   "cell_type": "code",
   "execution_count": null,
   "metadata": {},
   "outputs": [
    {
     "ename": "NameError",
     "evalue": "name 'agent' is not defined",
     "output_type": "error",
     "traceback": [
      "\u001b[0;31m---------------------------------------------------------------------------\u001b[0m",
      "\u001b[0;31mNameError\u001b[0m                                 Traceback (most recent call last)",
      "\u001b[0;32m<ipython-input-1-0917ea8acd5a>\u001b[0m in \u001b[0;36m<module>\u001b[0;34m\u001b[0m\n\u001b[0;32m----> 1\u001b[0;31m \u001b[0magent\u001b[0m\u001b[0;34m.\u001b[0m\u001b[0mtest\u001b[0m\u001b[0;34m(\u001b[0m\u001b[0;34m)\u001b[0m\u001b[0;34m\u001b[0m\u001b[0;34m\u001b[0m\u001b[0m\n\u001b[0m",
      "\u001b[0;31mNameError\u001b[0m: name 'agent' is not defined"
     ]
    }
   ],
   "source": [
    "agent.test()"
   ]
  },
  {
   "cell_type": "code",
   "execution_count": null,
   "metadata": {},
   "outputs": [
    {
     "data": {
      "image/png": "[encoded data removed]",
      "text/plain": [
       "<Figure size 1080x720 with 2 Axes>"
      ]
     },
     "metadata": {
      "needs_background": "light"
     },
     "output_type": "display_data"
    }
   ],
   "source": [
    "agent._plot_all()"
   ]
  },
  {
   "cell_type": "code",
   "execution_count": null,
   "metadata": {},
   "outputs": [],
   "source": [
    "agent.clear_plot_history()"
   ]
  },
  {
   "cell_type": "code",
   "execution_count": null,
   "metadata": {},
   "outputs": [],
   "source": [
    "\n",
    "agent.inventory = []\n",
    "agent.portfolio = []\n",
    "agent.losses = []\n",
    "agent.scores = []"
   ]
  },
  {
   "cell_type": "code",
   "execution_count": null,
   "metadata": {},
   "outputs": [
    {
     "data": {
      "text/plain": [
       "Fine_tune_1(\n",
       "  (Convolution_1): Sequential(\n",
       "    (0): Conv1d(33, 512, kernel_size=(16,), stride=(1,), padding=(1,))\n",
       "    (1): BatchNorm1d(512, eps=1e-05, momentum=0.1, affine=True, track_running_stats=True)\n",
       "    (2): ReLU()\n",
       "    (3): Dropout(p=0.2, inplace=False)\n",
       "    (4): Conv1d(512, 1024, kernel_size=(16,), stride=(1,), padding=(1,))\n",
       "    (5): BatchNorm1d(1024, eps=1e-05, momentum=0.1, affine=True, track_running_stats=True)\n",
       "    (6): ReLU()\n",
       "    (7): Dropout(p=0.1, inplace=False)\n",
       "    (8): Conv1d(1024, 1536, kernel_size=(16,), stride=(1,), padding=(1,))\n",
       "    (9): BatchNorm1d(1536, eps=1e-05, momentum=0.1, affine=True, track_running_stats=True)\n",
       "    (10): ReLU()\n",
       "    (11): MaxPool1d(kernel_size=2, stride=2, padding=0, dilation=1, ceil_mode=False)\n",
       "    (12): Conv1d(1536, 128, kernel_size=(1,), stride=(1,), padding=(1,))\n",
       "    (13): BatchNorm1d(128, eps=1e-05, momentum=0.1, affine=True, track_running_stats=True)\n",
       "    (14): ReLU()\n",
       "  )\n",
       "  (flatten): Flatten(start_dim=1, end_dim=2)\n",
       "  (Linear_layers): Sequential(\n",
       "    (0): Linear(in_features=384, out_features=320, bias=True)\n",
       "    (1): ReLU()\n",
       "    (2): Linear(in_features=320, out_features=256, bias=True)\n",
       "    (3): ReLU()\n",
       "    (4): Linear(in_features=256, out_features=192, bias=True)\n",
       "    (5): ReLU()\n",
       "    (6): Linear(in_features=192, out_features=128, bias=True)\n",
       "    (7): ReLU()\n",
       "    (8): Linear(in_features=128, out_features=64, bias=True)\n",
       "    (9): ReLU()\n",
       "  )\n",
       "  (advantage_hidden_layer): NoisyLinear()\n",
       "  (advantage_layer): NoisyLinear()\n",
       "  (value_hidden_layer): NoisyLinear()\n",
       "  (value_layer): NoisyLinear()\n",
       "  (Convolution_2): Sequential(\n",
       "    (0): Conv1d(128, 512, kernel_size=(3,), stride=(1,), padding=(1,))\n",
       "    (1): BatchNorm1d(512, eps=1e-05, momentum=0.1, affine=True, track_running_stats=True)\n",
       "    (2): ReLU()\n",
       "    (3): Conv1d(512, 1024, kernel_size=(3,), stride=(1,), padding=(1,))\n",
       "    (4): BatchNorm1d(1024, eps=1e-05, momentum=0.1, affine=True, track_running_stats=True)\n",
       "    (5): ReLU()\n",
       "    (6): Conv1d(1024, 1536, kernel_size=(3,), stride=(1,), padding=(1,))\n",
       "    (7): BatchNorm1d(1536, eps=1e-05, momentum=0.1, affine=True, track_running_stats=True)\n",
       "    (8): ReLU()\n",
       "    (9): MaxPool1d(kernel_size=2, stride=2, padding=0, dilation=1, ceil_mode=False)\n",
       "    (10): Conv1d(1536, 128, kernel_size=(1,), stride=(1,), padding=(1,))\n",
       "    (11): BatchNorm1d(128, eps=1e-05, momentum=0.1, affine=True, track_running_stats=True)\n",
       "    (12): ReLU()\n",
       "    (13): Dropout(p=0.1, inplace=False)\n",
       "  )\n",
       ")"
      ]
     },
     "execution_count": 50,
     "metadata": {},
     "output_type": "execute_result"
    }
   ],
   "source": [
    "Conv1_dict = {}\n",
    "for key, value in agent.dqn.state_dict().items():\n",
    "    if key.startswith(\"Convolution_1\"):\n",
    "        new_key = key.replace(\"Convolution_1.\", \"\")  # Remove the \"Convolution_1.\" prefix\n",
    "        Conv1_dict[new_key] = value\n",
    "        \n",
    "# Conv2_dict = {}  # Create a separate dictionary for bottleneck\n",
    "# for key, value in agent.dqn.state_dict().items():\n",
    "#     if key.startswith(\"Convolution_2\"):\n",
    "#         new_key = key.replace(\"Convolution_2.\", \"\")  # Remove the \"bottleneck.\" prefix\n",
    "#         Conv2_dict[new_key] = value\n",
    "        \n",
    "# Conv3_dict = {}  # Create a separate dictionary for bottleneck\n",
    "# for key, value in agent.dqn.state_dict().items():\n",
    "#     if key.startswith(\"Convolution_3\"):\n",
    "#         new_key = key.replace(\"Convolution_3.\", \"\")  # Remove the \"bottleneck.\" prefix\n",
    "#         Conv3_dict[new_key] = value\n",
    "   \n",
    "# Conv4_dict = {}  # Create a separate dictionary for bottleneck\n",
    "# for key, value in agent.dqn.state_dict().items():\n",
    "#     if key.startswith(\"Convolution_4\"):\n",
    "#         new_key = key.replace(\"Convolution_4.\", \"\")  # Remove the \"bottleneck.\" prefix\n",
    "#         Conv4_dict[new_key] = value\n",
    "   \n",
    "# Conv5_dict = {}  # Create a separate dictionary for bottleneck\n",
    "# for key, value in agent.dqn.state_dict().items():\n",
    "#     if key.startswith(\"Convolution_5\"):\n",
    "#         new_key = key.replace(\"Convolution_5.\", \"\")  # Remove the \"bottleneck.\" prefix\n",
    "#         Conv5_dict[new_key] = value\n",
    "\n",
    "\n",
    "# networks: dqn, dqn_target\n",
    "obs_dim = agent.env.observation_space.shape\n",
    "action_dim = agent.env.action_space.n\n",
    "agent.dqn = Fine_tune_1(\n",
    "            obs_dim[1], action_dim, agent.atom_size, agent.support\n",
    "        ).to(agent.device)\n",
    "\n",
    "agent.dqn_target = Fine_tune_1(\n",
    "            obs_dim[1], action_dim, agent.atom_size, agent.support\n",
    "        ).to(agent.device)\n",
    "\n",
    "# Load pretrained weights for Convolution_1\n",
    "agent.dqn.Convolution_1.load_state_dict(Conv1_dict)\n",
    "# Freeze Convolution_1 parameters\n",
    "for param in agent.dqn.Convolution_1.parameters():\n",
    "    param.requires_grad = False\n",
    "\n",
    "# # Load pretrained weights for Convolution_2\n",
    "# agent.dqn.Convolution_2.load_state_dict(Conv2_dict)\n",
    "# # Freeze bottleneck parameters\n",
    "# for param in agent.dqn.Convolution_2.parameters():\n",
    "#     param.requires_grad = False\n",
    "\n",
    "# # Load pretrained weights for Convolution_3\n",
    "# agent.dqn.Convolution_3.load_state_dict(Conv3_dict)\n",
    "# # Freeze bottleneck parameters\n",
    "# for param in agent.dqn.Convolution_3.parameters():\n",
    "#     param.requires_grad = False\n",
    "\n",
    "# # Load pretrained weights for Convolution_4\n",
    "# agent.dqn.Convolution_4.load_state_dict(Conv4_dict)\n",
    "# # Freeze bottleneck parameters\n",
    "# for param in agent.dqn.Convolution_4.parameters():\n",
    "#     param.requires_grad = False\n",
    "\n",
    "# # Load pretrained weights for Convolution_5\n",
    "# agent.dqn.Convolution_5.load_state_dict(Conv5_dict)\n",
    "# # Freeze bottleneck parameters\n",
    "# for param in agent.dqn.Convolution_5.parameters():\n",
    "#     param.requires_grad = False\n",
    "\n",
    "# Load dqn_target\n",
    "agent.dqn_target.load_state_dict(agent.dqn.state_dict())\n",
    "agent.dqn_target.eval()\n"
   ]
  },
  {
   "cell_type": "code",
   "execution_count": null,
   "metadata": {},
   "outputs": [],
   "source": [
    "\n",
    "scores, losses, portfolio, inventory = agent.get_plot_data()\n",
    "now = datetime.now()\n",
    "timestamp = now.strftime(\"%d-%m-%Y-%H-%M\")\n",
    "filename = \"CONV1x3v2_agent_\"+str(timestamp)+\"NEW\"+\".pkl\"\n",
    "agent.save_model(filename=\"CONV1x3v2_agent_\"+str(timestamp)+\"NEW_\"+\".pth\",memory_fn=timestamp)\n",
    "# with open(filename, \"wb\") as file:\n",
    "#     pickle.dump(agent, file, protocol=pickle.HIGHEST_PROTOCOL)"
   ]
  }
 ],
 "metadata": {
  "kernelspec": {
   "display_name": "base",
   "language": "python",
   "name": "python3"
  },
  "language_info": {
   "codemirror_mode": {
    "name": "ipython",
    "version": 3
   },
   "file_extension": ".py",
   "mimetype": "text/x-python",
   "name": "python",
   "nbconvert_exporter": "python",
   "pygments_lexer": "ipython3",
   "version": "3.7.6"
  }
 },
 "nbformat": 4,
 "nbformat_minor": 4
}
